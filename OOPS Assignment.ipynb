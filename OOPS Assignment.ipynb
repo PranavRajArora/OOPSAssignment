{
 "cells": [
  {
   "cell_type": "raw",
   "id": "4ebc7081-c597-4232-8577-24dc17254290",
   "metadata": {},
   "source": [
    "Q.1. What What is Object-Oriented Programming (OOP)?\n",
    "A.1. Object-Oriented Programming (OOP) is a programming approach that structures code using objects, which combine data and behavior. These objects are created from classes, which serve as blueprints defining the attributes and methods an object will have. OOP promotes concepts like encapsulation, inheritance, polymorphism, and abstraction to improve code organization and reusability. It allows developers to model real-world entities more intuitively in code. Overall, OOP makes software easier to maintain, scale, and debug."
   ]
  },
  {
   "cell_type": "raw",
   "id": "40f0df5d-acd6-4f08-b30e-714bd6b2eacb",
   "metadata": {},
   "source": [
    "Q.2. What is a class in OOP?\n",
    "A.2. A class is a template for creating objects. It defines the attributes (data) and methods (functions) that the objects created from the class will have. A class does not hold actual data itself—it provides the structure that objects (instances) will follow. For example, a Car class might define properties like color and speed, and methods like drive() or brake(). Once the class is defined, we can create multiple car objects with different values for the properties."
   ]
  },
  {
   "cell_type": "raw",
   "id": "2aafdab9-9e31-4752-8a95-70b8fc45652b",
   "metadata": {},
   "source": [
    "Q.3. What is an object in OOP?\n",
    "A.3. An object is an instance of a class. It represents a specific entity that has real values assigned to the attributes defined in the class. An object combines data (attributes) and behavior (methods) and can interact with other objects or perform actions. For example, if you have a Car class, an object could be a specific car like a red Toyota moving at 60 km/h. Objects are the actual building blocks used to create and run programs in OOP."
   ]
  },
  {
   "cell_type": "raw",
   "id": "1655048a-445b-45ef-8011-65987da61767",
   "metadata": {},
   "source": [
    "Q.4 What is the difference between abstraction and encapsulation?\n",
    "A.4. Abstraction and encapsulation are both core concepts in Object-Oriented Programming, but they serve different purposes:\n",
    "Abstraction focuses on hiding complex implementation details and showing only the essential features of an object. It helps reduce complexity by exposing only what is necessary for the user.\n",
    "Encapsulation means bundling data and methods that operate on that data within a single unit (a class), and restricting direct access to some of the object's components to protect the integrity of the data."
   ]
  },
  {
   "cell_type": "raw",
   "id": "84dc091a-0f6e-42e4-bdf6-c83eb2f1778a",
   "metadata": {},
   "source": [
    "Q.5. What are dunder methods in Python?\n",
    "A.5. Dunder methods in Python (short for “double underscore” methods) are special, built-in methods that start and end with double underscores, like __init__, __str__, or __len__. They are also called magic methods because they enable the customization of behavior for built-in operations like object creation, printing, addition, comparison, and more."
   ]
  },
  {
   "cell_type": "raw",
   "id": "96c45421-421e-4779-8b73-281cf4616ecc",
   "metadata": {},
   "source": [
    "Q.6. Explain the concept of inheritance in OOP?\n",
    "A.6. Inheritance in Object-Oriented Programming (OOP) is a mechanism that allows one class (called a child or subclass) to acquire the properties and behaviors (attributes and methods) of another class (called a parent or superclass). This promotes code reusability and makes it easier to maintain and extend programs. The child class can use the parent’s methods as-is, override them with its own versions, or add new methods and attributes."
   ]
  },
  {
   "cell_type": "raw",
   "id": "b2d9a436-2f39-49a3-b059-31b8ed1a108f",
   "metadata": {},
   "source": [
    "Q.7 What is polymorphism in OOP?\n",
    "A.7. Polymorphism means \"many forms\" and refers to the ability of different classes to provide a different implementation of the same method or interface. It allows objects of different types to be treated through a common interface, making code more flexible and reusable."
   ]
  },
  {
   "cell_type": "raw",
   "id": "59585f4f-b02d-4bcb-b3bf-c7dccba61e62",
   "metadata": {},
   "source": [
    "Q.8. How is encapsulation achieved in Python?\n",
    "A.8. Encapsulation in Python is achieved by bundling the data (attributes) and methods (functions) that operate on the data into a single unit, known as a class. It also involves restricting access to some of the object's attributes and methods to prevent accidental modification or misuse.\n",
    "Encapsulation is implemented using access modifiers:\n",
    "\n",
    "Public attributes/methods: Can be accessed directly from outside the class.\n",
    "\n",
    "Protected attributes/methods: Indicated by a single underscore (_), suggesting these should not be accessed directly, though it's not enforced by the language.\n",
    "\n",
    "Private attributes/methods: Indicated by double underscores (__), which makes them harder (but not impossible) to access from outside the class."
   ]
  },
  {
   "cell_type": "raw",
   "id": "83165ba7-47e0-4fef-8ea1-e2ac85e25e01",
   "metadata": {},
   "source": [
    "Q.9. What is a constructor in Python?\n",
    "A.9. A constructor is a special method called __init__ that is automatically called when a new object (instance) of a class is created. Its primary purpose is to initialize the object's attributes with specific values when the object is instantiated.\n",
    "The constructor allows to set up the initial state of an object by accepting parameters that are used to assign values to the object's attributes."
   ]
  },
  {
   "cell_type": "raw",
   "id": "93de1078-d70a-48b1-b9de-11a67ef0b9f4",
   "metadata": {},
   "source": [
    "Q.10. What are class and static methods in Python?\n",
    "A.10. \n",
    "I. Class Method: A class method is a method that is bound to the class, not an instance.\n",
    "a. It is defined using the @classmethod decorator.\n",
    "b. The first parameter of a class method is cls, which refers to the class itself (instead of self, which refers to the instance).\n",
    "c. Class methods can access and modify class-level attributes but cannot access instance-level attributes.\n",
    "\n",
    "II. Static Method: A static method is a method that does not take self or cls as its first argument. It behaves like a regular function, but it's defined inside a class.\n",
    "a. It is defined using the @staticmethod decorator.\n",
    "b. Static methods cannot access or modify instance or class attributes. They are used when you need to perform a task that doesn't require access to the instance or class, but you still want to keep the method within the class for organizational purposes."
   ]
  },
  {
   "cell_type": "raw",
   "id": "a701a2d3-9574-4a57-9fb8-741f583658f6",
   "metadata": {},
   "source": [
    "Q.11. What is method overloading in Python?\n",
    "A.11. Method overloading refers to the ability to define methods with the same name but different parameters. However, Python does not actively support method overloading like languages such as Java. If multiple methods with the same name are defined, the last definition will overwrite the previous ones. Instead, Python allows flexibility in method signatures by using techniques such as default arguments, variable-length arguments (*args), and keyword arguments (**kwargs). These features enable a single method to accept different numbers and types of arguments. Though Python doesn't enforce method overloading, we can simulate it by checking the number and type of arguments inside the method. \n"
   ]
  },
  {
   "cell_type": "raw",
   "id": "15441792-5341-4aa0-af30-92e1fcd594ea",
   "metadata": {},
   "source": [
    "Q.12.What is method overriding in OOP?\n",
    "A.12. Method overriding occurs when a subclass provides its own specific implementation of a method that is already defined in the superclass. The method in the subclass has the same name, parameters, and return type as the method in the parent class, but its implementation differs. Overriding allows the subclass to change or extend the behavior of the inherited method to better suit its needs. This is a key feature of polymorphism, as the subclass method is called when an object of the subclass is used. To override a method in Python, you simply define a method with the same name in the subclass. If the method is called on an instance of the subclass, the overridden version is executed instead of the one from the superclass. Method overriding promotes flexibility and code reuse in OOP."
   ]
  },
  {
   "cell_type": "raw",
   "id": "4479db11-1697-4696-97de-85458ff19341",
   "metadata": {},
   "source": [
    "Q.13. What is a property decorator in Python?\n",
    "A.13. In Python, the @property decorator is used to define a method that can be accessed like an attribute, allowing controlled access to private data in a class. It is commonly used to create getter methods, and optionally setter and deleter methods, without exposing the internal implementation details. This helps enforce encapsulation by allowing attribute access while still running logic behind the scenes.\n"
   ]
  },
  {
   "cell_type": "raw",
   "id": "24967e9a-62d4-4292-9c8e-18dcc13dd15f",
   "metadata": {},
   "source": [
    "Q.14. Why is polymorphism important in OOP? \n",
    "A.14. Polymorphism is important in Object-Oriented Programming (OOP) because it allows for flexibility and extensibility in code. By enabling objects of different classes to be treated through a common interface, polymorphism simplifies code, making it easier to work with different types of objects in a uniform way. This reduces the need for explicit type checking and allows you to write more generic, reusable functions or methods that can operate on objects of various classes without needing to know their specific types.\n"
   ]
  },
  {
   "cell_type": "raw",
   "id": "266c634c-a019-43fd-8276-111ffb9f276e",
   "metadata": {},
   "source": [
    "Q.15. What is an abstract class in Python?\n",
    "A.15.An abstract class in Python is a class that cannot be instantiated directly. It is designed to be inherited by other classes, which must implement the abstract methods defined in the abstract class. Abstract classes allow you to define a common interface for a group of related classes, ensuring that certain methods are implemented in the derived classes.\n",
    "\n",
    "In Python, abstract classes are defined using the abc (Abstract Base Class) module. You use the @abstractmethod decorator to mark methods as abstract, meaning they must be implemented by any subclass.\n",
    "\n",
    "Key Points:\n",
    "Abstract classes cannot be instantiated.\n",
    "\n",
    "They provide a blueprint for other classes.\n",
    "\n",
    "They can have both abstract methods (methods without implementation) and regular methods (with implementation).\n"
   ]
  },
  {
   "cell_type": "raw",
   "id": "d01fbe5d-ad3b-42dd-b167-8225807106e3",
   "metadata": {},
   "source": [
    "Q.16. What are the advantages of OOP?\n",
    "A.16. Advanatges of OOPs are as follows:\n",
    "\n",
    "I. Modular blocks: OOP allows code to be broken down into small, manageable chunks known as objects. Each object can be developed, tested, and maintained independently, leading to more organized and structured code.\n",
    "\n",
    "II. Reusability: OOP promotes the use of classes and inheritance, enabling the reuse of existing code. Once a class is created, it can be used to create multiple objects, and subclasses can inherit properties and methods from parent classes, reducing code duplication.\n",
    "\n",
    "III. Scalability: OOP makes it easier to scale software applications by creating new classes or extending existing ones using inheritance. This facilitates the addition of new features without affecting the entire codebase.\n",
    "\n",
    "IV. Maintainability: OOP enhances the maintainability of code by allowing changes to be made in one part of the system without affecting other parts. Encapsulation ensures that internal details of an object are hidden, reducing the risk of unintended side effects when modifying code.\n",
    "\n",
    "V. Flexibility and Extensibility: Through polymorphism, objects of different classes can be treated uniformly, allowing for greater flexibility in how methods and behaviors are implemented. New classes can be added easily, supporting the Open/Closed Principle (open for extension, closed for modification).\n",
    "\n",
    "VI. Abstraction: OOP allows the creation of abstract classes and methods that define common interfaces. This simplifies the understanding of complex systems by exposing only the relevant features and hiding unnecessary details.\n",
    "\n",
    "VII. Data Security: Encapsulation protects the internal state of objects by restricting access to attributes and methods, ensuring that data is only modified in controlled ways."
   ]
  },
  {
   "cell_type": "raw",
   "id": "018c68b1-898e-408a-9411-de7ce7c4cdd1",
   "metadata": {},
   "source": [
    "Q.17.What is the difference between a class variable and an instance variable?\n",
    "A.17. \n",
    "The difference between a class variable and an instance variable in Python lies in how they are shared and accessed across instances of a class.\n",
    "1. Class Variable:\n",
    "Shared by all instances of the class.\n",
    "Defined inside the class, but outside any methods.\n",
    "Changing the class variable affects all instances unless it’s overridden at the instance level.\n",
    "\n",
    "2. Instance Variable:\n",
    "Unique to each object (instance) of the class.\n",
    "Defined using self inside methods like __init__().\n",
    "Changing one instance’s variable does not affect others.\n"
   ]
  },
  {
   "cell_type": "raw",
   "id": "b6d46e45-b017-4f37-a17a-50a0ad093993",
   "metadata": {},
   "source": [
    "Q.18. What is multiple inheritance in Python?\n",
    "A.18. Multiple inheritance in Python is a feature that allows a class to inherit from more than one parent class. This means a child class can access attributes and methods from multiple base classes, combining their functionality.\n",
    "Python resolves method and attribute access using the Method Resolution Order (MRO), which follows the C3 linearization algorithm. If the same method exists in multiple parent classes, Python follows the MRO to determine which one to use. Multiple inheritance should be used carefully, as it can lead to conflicts and complex class hierarchies, especially when parent classes have methods or attributes with the same name."
   ]
  },
  {
   "cell_type": "raw",
   "id": "7830f7c8-3c4c-4266-859e-71df79c658d9",
   "metadata": {},
   "source": [
    "Q.19. Explain the purpose of ‘’__str__’ and ‘__repr__’ ‘ methods in PythonH\n",
    "A.19. In Python, the __str__ and __repr__ methods are special (dunder) methods used to define how objects are represented as strings. They are commonly used to make objects more readable and helpful when printed or inspected.\n",
    "\n",
    "__str__ (String Representation):\n",
    "Used by the print() function and str() to provide a user-friendly or informal string representation of an object.\n",
    "\n",
    "__repr__ (Official Representation):\n",
    "Used by repr() and in the Python shell, debugging, or logs to provide a developer-friendly or formal representation.\n",
    "\n",
    "Should ideally return a string that could recreate the object using eval() if possible.\n"
   ]
  },
  {
   "cell_type": "raw",
   "id": "c01900d3-1f9b-4b42-90b4-f3ad7f85cf44",
   "metadata": {},
   "source": [
    "Q.20. What is the significance of the ‘super()’ function in Python?\n",
    "A.20. The super() function in Python is used to call methods from a parent or superclass within a subclass. It allows you to access and extend the functionality of the inherited methods without explicitly naming the parent class. This is especially useful in complex class hierarchies and in cases of multiple inheritance.\n",
    "Advantages:\n",
    "Avoids hardcoding the parent class name, making code easier to maintain.\n",
    "\n",
    "Supports method resolution order (MRO), which is crucial in multiple inheritance scenarios.\n",
    "\n",
    "Allows a subclass to extend or customize inherited behavior without fully overriding it.\n"
   ]
  },
  {
   "cell_type": "raw",
   "id": "eeca851d-e27c-42d6-9660-723092f726ca",
   "metadata": {},
   "source": [
    "Q.21.What is the significance of the __del__ method in Python?\n",
    "A.21.\n",
    "The __del__ method in Python is a special method called a destructor, and it is automatically invoked when an object is about to be destroyed (i.e., when it is garbage collected). Its primary purpose is to allow you to define cleanup actions, such as closing files or releasing resources before an object is removed from memory."
   ]
  },
  {
   "cell_type": "raw",
   "id": "e4a92019-a280-4fa6-9474-6dc292904428",
   "metadata": {},
   "source": [
    "Q.22. What is the difference between @staticmethod and @classmethod in Python?\n",
    "A.22. In Python, @staticmethod and @classmethod are decorators used to define methods that do not behave like regular instance methods. A static method, defined with @staticmethod, does not take the instance (self) or class (cls) as its first parameter and cannot access or modify class or instance state; it's mainly used for utility functions that relate to the class but don’t depend on class or object data. In contrast, a class method, defined with @classmethod, receives the class itself as the first argument (usually named cls) and can access or modify class-level variables, making it useful for factory methods or operations that affect the class as a whole. While both are called on the class itself (not instances), the class method has knowledge of the class context, whereas the static method does not."
   ]
  },
  {
   "cell_type": "raw",
   "id": "f2fa6da5-46cb-41dd-a2f1-060bdd09ac8f",
   "metadata": {},
   "source": [
    "Q.23.How does polymorphism work in Python with inheritance?\n",
    "A.23. Polymorphism in Python with inheritance allows different classes to define methods with the same name, and lets objects of those classes be used interchangeably, even if they are instances of different classes. This is made possible through method overriding, where a subclass provides a specific implementation of a method already defined in its parent class. When you call the method on an object, Python automatically determines the correct version of the method to invoke based on the object’s class—this is known as dynamic or runtime polymorphism. For example, if a superclass has a method speak(), and two subclasses override it differently, you can loop over a list of superclass references and call speak() on each object, and Python will execute the appropriate method depending on the actual subclass. This promotes code flexibility and reuse by allowing different object types to be treated through a common interface."
   ]
  },
  {
   "cell_type": "raw",
   "id": "f566b8f4-a1b7-47ef-8fe8-3c583e65fac5",
   "metadata": {},
   "source": [
    "Q.24. What is method chaining in Python OOP?\n",
    "A.24. Method chaining in Python OOP is a programming technique where multiple methods are called sequentially on the same object, all in a single line. This works by having each method return the object (self) after performing its operation, allowing the next method in the chain to be called immediately.\n",
    "Advantages:\n",
    "Makes the code more concise and readable.\n",
    "Reduces the need for temporary variables.\n",
    "Enables fluent-style APIs similar to those in libraries like Pandas or SQLAlchemy.\n",
    "\n"
   ]
  },
  {
   "cell_type": "raw",
   "id": "6a19ed31-cc3d-46a3-a0a6-809f135824c8",
   "metadata": {},
   "source": [
    "Q.25. What is the purpose of the __call__ method in Python?\n",
    "A.25. The __call__ method in Python allows an object to be called like a function. It is a special method that is invoked when an instance of a class is called directly, similar to how you would call a function. This makes the object callable and can be used to define behavior for objects that should act like functions.\n",
    "When we define the __call__ method in a class, we enable instances of that class to be invoked with parentheses, and the method inside __call__ will be executed."
   ]
  },
  {
   "cell_type": "code",
   "execution_count": null,
   "id": "8e486403-da9f-4cff-a197-31118e72f1da",
   "metadata": {},
   "outputs": [],
   "source": []
  },
  {
   "cell_type": "code",
   "execution_count": null,
   "id": "a2b60ce5-def6-4ecb-a6fe-1299426d57ec",
   "metadata": {},
   "outputs": [],
   "source": []
  },
  {
   "cell_type": "markdown",
   "id": "daa94abd-9d8e-4fc6-8168-03708aff9f0b",
   "metadata": {},
   "source": [
    "###PRACTICAL QUESTIONS###"
   ]
  },
  {
   "cell_type": "code",
   "execution_count": 4,
   "id": "1787c241-05f3-461f-9ad8-dcac5d3f8a81",
   "metadata": {},
   "outputs": [
    {
     "name": "stdout",
     "output_type": "stream",
     "text": [
      "Animal Sounds.\n",
      "Bark!\n"
     ]
    }
   ],
   "source": [
    "#A.1\n",
    "\n",
    "class Animal:\n",
    "    def speak(self):\n",
    "        print(\"Animal Sounds.\")\n",
    "\n",
    "class Dog(Animal):\n",
    "    def speak(self):\n",
    "        print(\"Bark!\")\n",
    "generic_animal = Animal()\n",
    "generic_animal.speak() \n",
    "\n",
    "dog = Dog()\n",
    "dog.speak()  "
   ]
  },
  {
   "cell_type": "code",
   "execution_count": 6,
   "id": "7475af19-c5c3-4d3d-9274-ba3acacc4abc",
   "metadata": {},
   "outputs": [
    {
     "name": "stdout",
     "output_type": "stream",
     "text": [
      "Area of Circle: 78.54\n",
      "Area of Rectangle: 24.00\n"
     ]
    }
   ],
   "source": [
    "#A.2.\n",
    "\n",
    "from abc import ABC, abstractmethod\n",
    "import math\n",
    "\n",
    "# Abstract class\n",
    "class Shape(ABC):\n",
    "    @abstractmethod\n",
    "    def area(self):\n",
    "        pass\n",
    "\n",
    "# Derived class: Circle\n",
    "class Circle(Shape):\n",
    "    def __init__(self, radius):\n",
    "        self.radius = radius\n",
    "\n",
    "    def area(self):\n",
    "        return math.pi * self.radius ** 2\n",
    "\n",
    "# Derived class: Rectangle\n",
    "class Rectangle(Shape):\n",
    "    def __init__(self, width, height):\n",
    "        self.width = width\n",
    "        self.height = height\n",
    "\n",
    "    def area(self):\n",
    "        return self.width * self.height\n",
    "\n",
    "c = Circle(5)\n",
    "r = Rectangle(4, 6)\n",
    "\n",
    "print(f\"Area of Circle: {c.area():.2f}\")     \n",
    "print(f\"Area of Rectangle: {r.area():.2f}\") \n"
   ]
  },
  {
   "cell_type": "code",
   "execution_count": 8,
   "id": "7a08f900-7689-4157-a0bf-675a7fb56b0f",
   "metadata": {},
   "outputs": [
    {
     "name": "stdout",
     "output_type": "stream",
     "text": [
      "Vehicle Type: Four-wheeler\n",
      "Car Brand: Nissan\n",
      "Battery Capacity: 75 kWh\n"
     ]
    }
   ],
   "source": [
    "#A.3.\n",
    "class Vehicle:\n",
    "    def __init__(self, vehicle_type):\n",
    "        self.vehicle_type = vehicle_type\n",
    "\n",
    "    def show_type(self):\n",
    "        print(f\"Vehicle Type: {self.vehicle_type}\")\n",
    "\n",
    "class Car(Vehicle):\n",
    "    def __init__(self, vehicle_type, brand):\n",
    "        super().__init__(vehicle_type)\n",
    "        self.brand = brand\n",
    "\n",
    "    def show_brand(self):\n",
    "        print(f\"Car Brand: {self.brand}\")\n",
    "\n",
    "class ElectricCar(Car):\n",
    "    def __init__(self, vehicle_type, brand, battery_capacity):\n",
    "        super().__init__(vehicle_type, brand)\n",
    "        self.battery_capacity = battery_capacity\n",
    "\n",
    "    def show_battery(self):\n",
    "        print(f\"Battery Capacity: {self.battery_capacity} kWh\")\n",
    "\n",
    "e_car = ElectricCar(\"Four-wheeler\", \"Nissan\", 75)\n",
    "e_car.show_type()       \n",
    "e_car.show_brand()      \n",
    "e_car.show_battery()    \n"
   ]
  },
  {
   "cell_type": "code",
   "execution_count": 9,
   "id": "c5fce2c7-a021-4a21-9a34-a2ea9efda33a",
   "metadata": {},
   "outputs": [
    {
     "name": "stdout",
     "output_type": "stream",
     "text": [
      "Sparrow flies high in the sky.\n",
      "Penguins cannot fly, they swim instead.\n"
     ]
    }
   ],
   "source": [
    "#A.4.\n",
    "class Bird:\n",
    "    def fly(self):\n",
    "        print(\"Some birds can fly.\")\n",
    "class Sparrow(Bird):\n",
    "    def fly(self):\n",
    "        print(\"Sparrow flies high in the sky.\")\n",
    "class Penguin(Bird):\n",
    "    def fly(self):\n",
    "        print(\"Penguins cannot fly, they swim instead.\")\n",
    "def bird_flight(bird):\n",
    "    bird.fly()\n",
    "sparrow = Sparrow()\n",
    "penguin = Penguin()\n",
    "\n",
    "bird_flight(sparrow)  \n",
    "bird_flight(penguin)"
   ]
  },
  {
   "cell_type": "code",
   "execution_count": 10,
   "id": "f540f210-c1ce-4b23-bc4a-73ee8647172a",
   "metadata": {},
   "outputs": [
    {
     "name": "stdout",
     "output_type": "stream",
     "text": [
      "Current Balance: $100\n",
      "Deposited: $50\n",
      "Withdrew: $30\n",
      "Current Balance: $120\n"
     ]
    }
   ],
   "source": [
    "#A.5.\n",
    "class BankAccount:\n",
    "    def __init__(self, initial_balance=0):\n",
    "        self.__balance = initial_balance  # private attribute\n",
    "\n",
    "    def deposit(self, amount):\n",
    "        if amount > 0:\n",
    "            self.__balance += amount\n",
    "            print(f\"Deposited: ${amount}\")\n",
    "        else:\n",
    "            print(\"Deposit amount must be positive.\")\n",
    "\n",
    "    def withdraw(self, amount):\n",
    "        if 0 < amount <= self.__balance:\n",
    "            self.__balance -= amount\n",
    "            print(f\"Withdrew: ${amount}\")\n",
    "        else:\n",
    "            print(\"Insufficient funds or invalid amount.\")\n",
    "\n",
    "    def check_balance(self):\n",
    "        print(f\"Current Balance: ${self.__balance}\")\n",
    "\n",
    "account = BankAccount(100)\n",
    "account.check_balance()   \n",
    "account.deposit(50)       \n",
    "account.withdraw(30)      \n",
    "account.check_balance()   "
   ]
  },
  {
   "cell_type": "code",
   "execution_count": 11,
   "id": "0902a2f3-0c88-45ac-9201-52640a124e8d",
   "metadata": {},
   "outputs": [
    {
     "name": "stdout",
     "output_type": "stream",
     "text": [
      "Strumming the guitar.\n",
      "Playing the piano.\n"
     ]
    }
   ],
   "source": [
    "#A.6\n",
    "class Instrument:\n",
    "    def play(self):\n",
    "        print(\"Playing an instrument.\")\n",
    "class Guitar(Instrument):\n",
    "    def play(self):\n",
    "        print(\"Strumming the guitar.\")\n",
    "class Piano(Instrument):\n",
    "    def play(self):\n",
    "        print(\"Playing the piano.\")\n",
    "def perform_music(instrument):\n",
    "    instrument.play()\n",
    "g = Guitar()\n",
    "p = Piano()\n",
    "\n",
    "perform_music(g)  \n",
    "perform_music(p)  "
   ]
  },
  {
   "cell_type": "code",
   "execution_count": 12,
   "id": "b264cfe1-7a29-4029-b0b7-f95eda46928b",
   "metadata": {},
   "outputs": [
    {
     "name": "stdout",
     "output_type": "stream",
     "text": [
      "Sum: 15\n",
      "Difference: 5\n"
     ]
    }
   ],
   "source": [
    "#A.7.\n",
    "class MathOperations:\n",
    "    @classmethod\n",
    "    def add_numbers(cls, a, b):\n",
    "        return a + b\n",
    "\n",
    "    @staticmethod\n",
    "    def subtract_numbers(a, b):\n",
    "        return a - b\n",
    "\n",
    "sum_result = MathOperations.add_numbers(10, 5)\n",
    "diff_result = MathOperations.subtract_numbers(10, 5)\n",
    "\n",
    "print(f\"Sum: {sum_result}\")        \n",
    "print(f\"Difference: {diff_result}\")\n"
   ]
  },
  {
   "cell_type": "code",
   "execution_count": 13,
   "id": "35af3c91-cb3f-4904-8ce2-f63456227ce4",
   "metadata": {},
   "outputs": [
    {
     "name": "stdout",
     "output_type": "stream",
     "text": [
      "Total persons created: 3\n"
     ]
    }
   ],
   "source": [
    "#A.8.\n",
    "class Person:\n",
    "    count = 0 \n",
    "\n",
    "    def __init__(self, name):\n",
    "        self.name = name\n",
    "        Person.count += 1  \n",
    "\n",
    "    @classmethod\n",
    "    def total_persons(cls):\n",
    "        return cls.count\n",
    "\n",
    "p1 = Person(\"Alice\")\n",
    "p2 = Person(\"Bob\")\n",
    "p3 = Person(\"Charlie\")\n",
    "\n",
    "print(f\"Total persons created: {Person.total_persons()}\") "
   ]
  },
  {
   "cell_type": "code",
   "execution_count": 14,
   "id": "c98c0f92-15cf-439e-8fe7-12e353918f6e",
   "metadata": {},
   "outputs": [
    {
     "name": "stdout",
     "output_type": "stream",
     "text": [
      "3/4\n",
      "5/1\n"
     ]
    }
   ],
   "source": [
    "#A.9.\n",
    "class Fraction:\n",
    "    def __init__(self, numerator, denominator):\n",
    "        self.numerator = numerator\n",
    "        if denominator == 0:\n",
    "            raise ValueError(\"Denominator cannot be zero.\")\n",
    "        self.denominator = denominator\n",
    "\n",
    "    def __str__(self):\n",
    "        return f\"{self.numerator}/{self.denominator}\"\n",
    "f1 = Fraction(3, 4)\n",
    "f2 = Fraction(5, 1)\n",
    "\n",
    "print(f1)  \n",
    "print(f2)  \n"
   ]
  },
  {
   "cell_type": "code",
   "execution_count": 15,
   "id": "c03bb8e4-48f0-4e7e-82ea-010c61a0e76a",
   "metadata": {},
   "outputs": [
    {
     "name": "stdout",
     "output_type": "stream",
     "text": [
      "Vector(2, 3)\n",
      "Vector(4, 5)\n",
      "Vector(6, 8)\n"
     ]
    }
   ],
   "source": [
    "#A.10.\n",
    "class Vector:\n",
    "    def __init__(self, x, y):\n",
    "        self.x = x\n",
    "        self.y = y\n",
    "\n",
    "    def __add__(self, other):\n",
    "        if isinstance(other, Vector):\n",
    "            return Vector(self.x + other.x, self.y + other.y)\n",
    "        return NotImplemented\n",
    "\n",
    "    def __str__(self):\n",
    "        return f\"Vector({self.x}, {self.y})\"\n",
    "\n",
    "v1 = Vector(2, 3)\n",
    "v2 = Vector(4, 5)\n",
    "v3 = v1 + v2  \n",
    "\n",
    "print(v1) \n",
    "print(v2) \n",
    "print(v3)"
   ]
  },
  {
   "cell_type": "code",
   "execution_count": 16,
   "id": "d23da773-0c19-4e1a-878e-18555f94a8f7",
   "metadata": {},
   "outputs": [
    {
     "name": "stdout",
     "output_type": "stream",
     "text": [
      "Hello, my name is Alice and I am 30 years old.\n"
     ]
    }
   ],
   "source": [
    "#A.11.\n",
    "class Person:\n",
    "    def __init__(self, name, age):\n",
    "        self.name = name\n",
    "        self.age = age\n",
    "\n",
    "    def greet(self):\n",
    "        print(f\"Hello, my name is {self.name} and I am {self.age} years old.\")\n",
    "\n",
    "person1 = Person(\"Alice\", 30)\n",
    "person1.greet() "
   ]
  },
  {
   "cell_type": "code",
   "execution_count": 17,
   "id": "2a4fa6e3-abfd-473c-9636-cb59099f1c96",
   "metadata": {},
   "outputs": [
    {
     "name": "stdout",
     "output_type": "stream",
     "text": [
      "Alice's average grade: 86.60\n"
     ]
    }
   ],
   "source": [
    "#A.12.\n",
    "class Student:\n",
    "    def __init__(self, name, grades):\n",
    "        self.name = name\n",
    "        self.grades = grades \n",
    "\n",
    "    def average_grade(self):\n",
    "        if len(self.grades) == 0:\n",
    "            return 0  \n",
    "        return sum(self.grades) / len(self.grades)\n",
    "\n",
    "student1 = Student(\"Alice\", [85, 90, 78, 92, 88])\n",
    "print(f\"{student1.name}'s average grade: {student1.average_grade():.2f}\")  "
   ]
  },
  {
   "cell_type": "code",
   "execution_count": 18,
   "id": "9d307688-3d37-4252-ba5e-f4e211f2ee73",
   "metadata": {},
   "outputs": [
    {
     "name": "stdout",
     "output_type": "stream",
     "text": [
      "Area of the rectangle: 50\n"
     ]
    }
   ],
   "source": [
    "#A.13.\n",
    "class Rectangle:\n",
    "    def __init__(self):\n",
    "        self.length = 0\n",
    "        self.width = 0\n",
    "\n",
    "    def set_dimensions(self, length, width):\n",
    "        self.length = length\n",
    "        self.width = width\n",
    "\n",
    "    def area(self):\n",
    "        return self.length * self.width\n",
    "\n",
    "rect = Rectangle()\n",
    "rect.set_dimensions(5, 10)\n",
    "print(f\"Area of the rectangle: {rect.area()}\")  "
   ]
  },
  {
   "cell_type": "code",
   "execution_count": 19,
   "id": "6a80efc9-403a-41ff-8009-0e0b4b7b5ab7",
   "metadata": {},
   "outputs": [
    {
     "name": "stdout",
     "output_type": "stream",
     "text": [
      "Alice's salary: $800\n",
      "Bob's salary: $1700\n"
     ]
    }
   ],
   "source": [
    "#A.14.\n",
    "\n",
    "class Employee:\n",
    "    def __init__(self, name, hours_worked, hourly_rate):\n",
    "        self.name = name\n",
    "        self.hours_worked = hours_worked\n",
    "        self.hourly_rate = hourly_rate\n",
    "\n",
    "    def calculate_salary(self):\n",
    "        return self.hours_worked * self.hourly_rate\n",
    "\n",
    "class Manager(Employee):\n",
    "    def __init__(self, name, hours_worked, hourly_rate, bonus):\n",
    "        super().__init__(name, hours_worked, hourly_rate)\n",
    "        self.bonus = bonus\n",
    "\n",
    "    def calculate_salary(self):\n",
    "        base_salary = super().calculate_salary()\n",
    "        return base_salary + self.bonus\n",
    "\n",
    "employee = Employee(\"Alice\", 40, 20)\n",
    "manager = Manager(\"Bob\", 40, 30, 500)\n",
    "\n",
    "print(f\"{employee.name}'s salary: ${employee.calculate_salary()}\") \n",
    "print(f\"{manager.name}'s salary: ${manager.calculate_salary()}\")   \n"
   ]
  },
  {
   "cell_type": "code",
   "execution_count": 20,
   "id": "c2beba7b-cca5-4914-b21b-b078e1fd576c",
   "metadata": {},
   "outputs": [
    {
     "name": "stdout",
     "output_type": "stream",
     "text": [
      "Total price for Laptop: $3000\n"
     ]
    }
   ],
   "source": [
    "#A.15.\n",
    "class Product:\n",
    "    def __init__(self, name, price, quantity):\n",
    "        self.name = name\n",
    "        self.price = price\n",
    "        self.quantity = quantity\n",
    "\n",
    "    def total_price(self):\n",
    "        return self.price * self.quantity\n",
    "\n",
    "product = Product(\"Laptop\", 1000, 3)\n",
    "print(f\"Total price for {product.name}: ${product.total_price()}\") "
   ]
  },
  {
   "cell_type": "code",
   "execution_count": 21,
   "id": "715e2bc8-59bf-4662-b0b7-a11c3de342c3",
   "metadata": {},
   "outputs": [
    {
     "name": "stdout",
     "output_type": "stream",
     "text": [
      "Cow sound: Moo\n",
      "Sheep sound: Baa\n"
     ]
    }
   ],
   "source": [
    "#A.16.\n",
    "from abc import ABC, abstractmethod\n",
    "\n",
    "class Animal(ABC):\n",
    "    @abstractmethod\n",
    "    def sound(self):\n",
    "        pass\n",
    "\n",
    "class Cow(Animal):\n",
    "    def sound(self):\n",
    "        return \"Moo\"\n",
    "\n",
    "class Sheep(Animal):\n",
    "    def sound(self):\n",
    "        return \"Baa\"\n",
    "\n",
    "cow = Cow()\n",
    "sheep = Sheep()\n",
    "\n",
    "print(f\"Cow sound: {cow.sound()}\")   \n",
    "print(f\"Sheep sound: {sheep.sound()}\") "
   ]
  },
  {
   "cell_type": "code",
   "execution_count": 22,
   "id": "6b0babc4-ac7f-4a9f-9039-f6f2ea8c9a58",
   "metadata": {},
   "outputs": [
    {
     "name": "stdout",
     "output_type": "stream",
     "text": [
      "Title: To Kill a Mockingbird\n",
      "Author: Harper Lee\n",
      "Year Published: 1960\n",
      "Title: 1984\n",
      "Author: George Orwell\n",
      "Year Published: 1949\n"
     ]
    }
   ],
   "source": [
    "#A.17.\n",
    "class Book:\n",
    "    def __init__(self, title, author, year_published):\n",
    "        self.title = title\n",
    "        self.author = author\n",
    "        self.year_published = year_published\n",
    "\n",
    "    def get_book_info(self):\n",
    "        return f\"Title: {self.title}\\nAuthor: {self.author}\\nYear Published: {self.year_published}\"\n",
    "book1 = Book(\"To Kill a Mockingbird\", \"Harper Lee\", 1960)\n",
    "book2 = Book(\"1984\", \"George Orwell\", 1949)\n",
    "\n",
    "print(book1.get_book_info())\n",
    "\n",
    "print(book2.get_book_info())\n"
   ]
  },
  {
   "cell_type": "code",
   "execution_count": 23,
   "id": "dde39080-86ad-4f5d-9d61-4a8869c89b5e",
   "metadata": {},
   "outputs": [
    {
     "name": "stdout",
     "output_type": "stream",
     "text": [
      "160/1, CIT Road\n",
      "200000\n",
      "Address: Arora House, Beleghata\n",
      "Price: $1500000\n",
      "Number of rooms: 12\n"
     ]
    }
   ],
   "source": [
    "#A.18.\n",
    "\n",
    "class House:\n",
    "    def __init__(self, address, price):\n",
    "        self.address = address\n",
    "        self.price = price\n",
    "class Mansion(House):\n",
    "    def __init__(self, address, price, number_of_rooms):\n",
    "        super().__init__(address, price) \n",
    "        self.number_of_rooms = number_of_rooms\n",
    "    def display_info(self):\n",
    "        return f\"Address: {self.address}\\nPrice: ${self.price}\\nNumber of rooms: {self.number_of_rooms}\"\n",
    "\n",
    "house = House(\"160/1, CIT Road\", 200000)\n",
    "mansion = Mansion(\"Arora House, Beleghata\", 1500000, 12)\n",
    "\n",
    "print(house.address) \n",
    "print(house.price)    \n",
    "\n",
    "print(mansion.display_info())  \n"
   ]
  },
  {
   "cell_type": "code",
   "execution_count": null,
   "id": "931a3552-7e92-4637-82d9-a9f60d892d49",
   "metadata": {},
   "outputs": [],
   "source": []
  }
 ],
 "metadata": {
  "kernelspec": {
   "display_name": "Python 3 (ipykernel)",
   "language": "python",
   "name": "python3"
  },
  "language_info": {
   "codemirror_mode": {
    "name": "ipython",
    "version": 3
   },
   "file_extension": ".py",
   "mimetype": "text/x-python",
   "name": "python",
   "nbconvert_exporter": "python",
   "pygments_lexer": "ipython3",
   "version": "3.13.2"
  }
 },
 "nbformat": 4,
 "nbformat_minor": 5
}
